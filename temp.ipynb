{
 "cells": [
  {
   "cell_type": "code",
   "execution_count": 14,
   "metadata": {},
   "outputs": [],
   "source": [
    "import os\n",
    "import shutil\n",
    "import sys"
   ]
  },
  {
   "cell_type": "code",
   "execution_count": 32,
   "metadata": {},
   "outputs": [
    {
     "name": "stdout",
     "output_type": "stream",
     "text": [
      "./clean_dataset/fairy_tale\n",
      "./clean_dataset/short_story\n"
     ]
    },
    {
     "data": {
      "text/plain": [
       "257"
      ]
     },
     "execution_count": 32,
     "metadata": {},
     "output_type": "execute_result"
    }
   ],
   "source": [
    "stories = {}\n",
    "source_folder = \"./clean_dataset\"\n",
    "\n",
    "dir_paths = []\n",
    "original_stories = []\n",
    "story_names = []\n",
    "\n",
    "for dir_name in os.listdir(source_folder):\n",
    "\n",
    "    if not dir_name.startswith(\".DS_Store\"):\n",
    "        dir_path = os.path.join(source_folder, dir_name)\n",
    "        dir_paths.append(dir_path)\n",
    "        for dir_path in dir_paths:\n",
    "            for story_name in os.listdir(dir_path):\n",
    "                # print(story_name)\n",
    "                if not story_name.startswith(\".DS_Store\"):\n",
    "                    story_names.append(story_name)\n",
    "                #     story_path = os.path.join(dir_path, story_name)\n",
    "                #     file_path = story_path + \"/story.txt\"\n",
    "                #     with open(file_path, 'r') as file:\n",
    "                #         file_content = file.read()\n",
    "                #     original_stories.append(file_content)\n",
    "\n",
    "# stories[\"original_story\"] = original_stories\n",
    "# stories[\"story_name\"] = story_names   \n",
    "        \n",
    "len(story_names)"
   ]
  },
  {
   "cell_type": "code",
   "execution_count": 21,
   "metadata": {},
   "outputs": [
    {
     "name": "stdout",
     "output_type": "stream",
     "text": [
      "38\n"
     ]
    }
   ],
   "source": [
    "print(len(stories[\"original_story\"]))"
   ]
  },
  {
   "cell_type": "code",
   "execution_count": 24,
   "metadata": {},
   "outputs": [
    {
     "data": {
      "text/plain": [
       "['strength of the little thin thread',\n",
       " 'the travelling companion',\n",
       " 'the frogs and the well',\n",
       " 'the boy and the filberts',\n",
       " 'a raven and a swan',\n",
       " 'the lark and her young ones',\n",
       " 'drifting north',\n",
       " 'the man with the trumpet',\n",
       " 'kittys class day',\n",
       " 'the wolf and the goat',\n",
       " 'senility',\n",
       " 'a question of possession',\n",
       " 'the rabbit the weasel and the cat',\n",
       " 'the wife',\n",
       " 'the heiress',\n",
       " 'the candy country',\n",
       " 'rights and wrongs',\n",
       " 'an apology for crudity',\n",
       " 'the cat and the birds',\n",
       " 'lost in a london fog',\n",
       " 'the ass and its shadow',\n",
       " 'belling the cat',\n",
       " 'the blind men and the elephant',\n",
       " 'the cruise of the dolphin',\n",
       " 'the farmer and the snake',\n",
       " 'the crow and the pitcher',\n",
       " 'the farmer and the stork',\n",
       " 'good hearted people',\n",
       " 'the beetle who went on his travels',\n",
       " 'the brave tin soldier',\n",
       " 'im a fool',\n",
       " 'mercury and the woodman',\n",
       " 'the ass and the grasshoppers',\n",
       " 'what the moon saw',\n",
       " 'not great but happy',\n",
       " 'the fox and the hedgehog',\n",
       " 'after a shadow',\n",
       " 'the eagle and the kite']"
      ]
     },
     "execution_count": 24,
     "metadata": {},
     "output_type": "execute_result"
    }
   ],
   "source": [
    "stories['story_name']"
   ]
  },
  {
   "cell_type": "code",
   "execution_count": null,
   "metadata": {},
   "outputs": [],
   "source": []
  }
 ],
 "metadata": {
  "kernelspec": {
   "display_name": "genai",
   "language": "python",
   "name": "python3"
  },
  "language_info": {
   "codemirror_mode": {
    "name": "ipython",
    "version": 3
   },
   "file_extension": ".py",
   "mimetype": "text/x-python",
   "name": "python",
   "nbconvert_exporter": "python",
   "pygments_lexer": "ipython3",
   "version": "3.11.3"
  }
 },
 "nbformat": 4,
 "nbformat_minor": 2
}
