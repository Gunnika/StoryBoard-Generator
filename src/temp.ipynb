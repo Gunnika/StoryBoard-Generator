{
 "cells": [
  {
   "cell_type": "code",
   "execution_count": 1,
   "metadata": {},
   "outputs": [],
   "source": [
    "import os\n",
    "import shutil\n",
    "import sys"
   ]
  },
  {
   "cell_type": "code",
   "execution_count": 3,
   "metadata": {},
   "outputs": [
    {
     "name": "stdout",
     "output_type": "stream",
     "text": [
      "fairy_tale the peasants wise daughter\n"
     ]
    },
    {
     "ename": "SystemExit",
     "evalue": "",
     "output_type": "error",
     "traceback": [
      "An exception has occurred, use %tb to see the full traceback.\n",
      "\u001b[0;31mSystemExit\u001b[0m\n"
     ]
    },
    {
     "name": "stderr",
     "output_type": "stream",
     "text": [
      "/home/aditi/miniconda3/envs/genai/lib/python3.11/site-packages/IPython/core/interactiveshell.py:3513: UserWarning: To exit: use 'exit', 'quit', or Ctrl-D.\n",
      "  warn(\"To exit: use 'exit', 'quit', or Ctrl-D.\", stacklevel=1)\n"
     ]
    }
   ],
   "source": [
    "stories = {}\n",
    "source_folder = \"../data/clean_dataset\"\n",
    "\n",
    "dir_paths = []\n",
    "original_stories = []\n",
    "story_names = []\n",
    "story_types = []\n",
    "\n",
    "for dir_name in os.listdir(source_folder):\n",
    "    \n",
    "    if not dir_name.startswith(\".DS_Store\"):\n",
    "        dir_path = os.path.join(source_folder, dir_name)\n",
    "        dir_paths.append(dir_path)\n",
    "        for dir_path in dir_paths:\n",
    "            for story_name in os.listdir(dir_path):\n",
    "                if not story_name.startswith(\".DS_Store\"):\n",
    "                    # print(dir_name, story_name)\n",
    "                    # sys.exit()\n",
    "                    story_types.append(dir_name)\n",
    "                    story_names.append(story_name)\n",
    "                    story_path = os.path.join(dir_path, story_name)\n",
    "                    file_path = story_path + \"/story.txt\"\n",
    "                    with open(file_path, 'r') as file:\n",
    "                        file_content = file.read()\n",
    "                    original_stories.append(file_content)\n",
    "\n",
    "stories[\"original_story\"] = original_stories\n",
    "stories[\"story_name\"] = story_names\n",
    "stories[\"story type\"] = story_types\n"
   ]
  },
  {
   "cell_type": "code",
   "execution_count": 4,
   "metadata": {},
   "outputs": [
    {
     "name": "stderr",
     "output_type": "stream",
     "text": [
      "[nltk_data] Downloading package punkt to /home/aditi/nltk_data...\n",
      "[nltk_data]   Package punkt is already up-to-date!\n",
      "[nltk_data] Downloading package stopwords to /home/aditi/nltk_data...\n",
      "[nltk_data]   Package stopwords is already up-to-date!\n"
     ]
    },
    {
     "name": "stdout",
     "output_type": "stream",
     "text": [
      "Cleaning segments\n"
     ]
    },
    {
     "name": "stderr",
     "output_type": "stream",
     "text": [
      "556it [02:40,  3.47it/s]"
     ]
    },
    {
     "name": "stdout",
     "output_type": "stream",
     "text": [
      "segmentation works 380\n",
      "segmentation doesn't work 176\n"
     ]
    },
    {
     "name": "stderr",
     "output_type": "stream",
     "text": [
      "\n"
     ]
    }
   ],
   "source": [
    "import os\n",
    "from utils import read_data\n",
    "from segmentation import generateSegments, generateSummaries\n",
    "os.environ['CUDA_VISIBLE_DEVICES']='0'\n",
    "import nltk\n",
    "nltk.download('punkt')  # For tokenization\n",
    "nltk.download('stopwords')\n",
    "from nltk.tokenize import TextTilingTokenizer\n",
    "\n",
    "data_folder= \"../data/clean_dataset\"\n",
    "df = read_data(data_folder)\n",
    "\n",
    "df = generateSegments(df)\n",
    "summarizer_model_id = \"sshleifer/distilbart-xsum-12-6\"\n",
    "df = generateSummaries(df, summarizer_model_id)"
   ]
  },
  {
   "cell_type": "code",
   "execution_count": 11,
   "metadata": {},
   "outputs": [
    {
     "name": "stdout",
     "output_type": "stream",
     "text": [
      "214 166\n"
     ]
    }
   ],
   "source": [
    "\n",
    "f =0\n",
    "s =0\n",
    "for idx,row in df.iterrows():\n",
    "    if len(row[\"segmented_story\"]) > 0:\n",
    "        if row[\"story_type\"] == \"fairy_tale\":\n",
    "            f+=1\n",
    "        else:\n",
    "            s+=1\n",
    "print(f,s)\n",
    "df.to_csv(\"../data/dataset_info.csv\", sep='\\t')"
   ]
  },
  {
   "cell_type": "code",
   "execution_count": 10,
   "metadata": {},
   "outputs": [],
   "source": [
    "#generate segment wise data for baseline\n",
    "\n",
    "destination_folder = \"../data/baseline0_dataset_segment_wise/\"\n",
    "\n",
    "for index,row in df.iterrows():\n",
    "    if len(row[\"segmented_story\"]) > 0:\n",
    "        segments = row[\"segmented_story\"]\n",
    "        for idx, segment in enumerate(segments):\n",
    "            story_type = row[\"story_type\"]\n",
    "            file_name = row[\"story_name\"] + \"_segment_\" + str(idx)\n",
    "            with open(destination_folder+story_type+\"/\"+file_name+\".txt\", \"w\") as file:\n",
    "                file.write(segment)"
   ]
  },
  {
   "cell_type": "code",
   "execution_count": 25,
   "metadata": {},
   "outputs": [
    {
     "data": {
      "text/html": [
       "<div>\n",
       "<style scoped>\n",
       "    .dataframe tbody tr th:only-of-type {\n",
       "        vertical-align: middle;\n",
       "    }\n",
       "\n",
       "    .dataframe tbody tr th {\n",
       "        vertical-align: top;\n",
       "    }\n",
       "\n",
       "    .dataframe thead th {\n",
       "        text-align: right;\n",
       "    }\n",
       "</style>\n",
       "<table border=\"1\" class=\"dataframe\">\n",
       "  <thead>\n",
       "    <tr style=\"text-align: right;\">\n",
       "      <th></th>\n",
       "      <th>Unnamed: 0</th>\n",
       "      <th>original_story</th>\n",
       "      <th>story_name</th>\n",
       "      <th>story_type</th>\n",
       "      <th>segmented_story</th>\n",
       "      <th>summarized_story</th>\n",
       "    </tr>\n",
       "  </thead>\n",
       "  <tbody>\n",
       "    <tr>\n",
       "      <th>0</th>\n",
       "      <td>0</td>\n",
       "      <td>There was once a poor peasant who had no land,...</td>\n",
       "      <td>the peasants wise daughter</td>\n",
       "      <td>fairy_tale</td>\n",
       "      <td>[\"There was once a poor peasant who had no lan...</td>\n",
       "      <td>[' A tale of a tale of two daughters, one of t...</td>\n",
       "    </tr>\n",
       "    <tr>\n",
       "      <th>1</th>\n",
       "      <td>1</td>\n",
       "      <td>EAST INDIA was besieged by an enemy who would ...</td>\n",
       "      <td>the three black princesses</td>\n",
       "      <td>fairy_tale</td>\n",
       "      <td>[\"EAST INDIA was besieged by an enemy who woul...</td>\n",
       "      <td>[' All photographs courtesy of AFP, EPA, Getty...</td>\n",
       "    </tr>\n",
       "    <tr>\n",
       "      <th>2</th>\n",
       "      <td>2</td>\n",
       "      <td>There were once a cock and a hen who wanted to...</td>\n",
       "      <td>herr korbes</td>\n",
       "      <td>fairy_tale</td>\n",
       "      <td>[\"There were once a cock and a hen who wanted ...</td>\n",
       "      <td>[' All photographs courtesy of AFP, EPA, Getty...</td>\n",
       "    </tr>\n",
       "    <tr>\n",
       "      <th>3</th>\n",
       "      <td>3</td>\n",
       "      <td>Hard by a great forest dwelt a poor wood-cutte...</td>\n",
       "      <td>hansel and gretel</td>\n",
       "      <td>fairy_tale</td>\n",
       "      <td>[\"Hard by a great forest dwelt a poor wood-cut...</td>\n",
       "      <td>[' A young boy and a girl, both aged one-and-a...</td>\n",
       "    </tr>\n",
       "    <tr>\n",
       "      <th>4</th>\n",
       "      <td>4</td>\n",
       "      <td>The she-wolf brought forth a young one, and in...</td>\n",
       "      <td>the fox and his cousin</td>\n",
       "      <td>fairy_tale</td>\n",
       "      <td>[\"The she-wolf brought forth a young one, and ...</td>\n",
       "      <td>[' A fox and a she-wolf met in a village in th...</td>\n",
       "    </tr>\n",
       "  </tbody>\n",
       "</table>\n",
       "</div>"
      ],
      "text/plain": [
       "   Unnamed: 0                                     original_story  \\\n",
       "0           0  There was once a poor peasant who had no land,...   \n",
       "1           1  EAST INDIA was besieged by an enemy who would ...   \n",
       "2           2  There were once a cock and a hen who wanted to...   \n",
       "3           3  Hard by a great forest dwelt a poor wood-cutte...   \n",
       "4           4  The she-wolf brought forth a young one, and in...   \n",
       "\n",
       "                   story_name  story_type  \\\n",
       "0  the peasants wise daughter  fairy_tale   \n",
       "1  the three black princesses  fairy_tale   \n",
       "2                 herr korbes  fairy_tale   \n",
       "3           hansel and gretel  fairy_tale   \n",
       "4      the fox and his cousin  fairy_tale   \n",
       "\n",
       "                                     segmented_story  \\\n",
       "0  [\"There was once a poor peasant who had no lan...   \n",
       "1  [\"EAST INDIA was besieged by an enemy who woul...   \n",
       "2  [\"There were once a cock and a hen who wanted ...   \n",
       "3  [\"Hard by a great forest dwelt a poor wood-cut...   \n",
       "4  [\"The she-wolf brought forth a young one, and ...   \n",
       "\n",
       "                                    summarized_story  \n",
       "0  [' A tale of a tale of two daughters, one of t...  \n",
       "1  [' All photographs courtesy of AFP, EPA, Getty...  \n",
       "2  [' All photographs courtesy of AFP, EPA, Getty...  \n",
       "3  [' A young boy and a girl, both aged one-and-a...  \n",
       "4  [' A fox and a she-wolf met in a village in th...  "
      ]
     },
     "execution_count": 25,
     "metadata": {},
     "output_type": "execute_result"
    }
   ],
   "source": [
    "import pandas as pd\n",
    "\n",
    "df2 = pd.read_csv(\"../generated_images/baseline2_full/df_summary.csv\")\n",
    "df2.head()"
   ]
  },
  {
   "cell_type": "code",
   "execution_count": 30,
   "metadata": {},
   "outputs": [
    {
     "name": "stdout",
     "output_type": "stream",
     "text": [
      "SEGMENT: 0 There was once a poor peasant who had no land, but only a small house, and one daughter. Then said the daughter, 'We ought to ask our lord the King for a bit of newly-cleared land.' When the King heard of their poverty, he presented them with a piece of land, which she and her father dug up, and intended to sow with a little corn and grain of that kind. When they had dug nearly the whole of the field, they found in the earth a mortar made of pure gold. 'Listen,' said the father to the girl, 'as our lord the King has been so gracious and presented us with the field, we ought to give him this mortar in return for it.' The daughter, however, would not consent to this, and said, 'Father, if we have the mortar without having the pestle as well, we shall have to get the pestle, so you had much better say nothing about it.' He would, however, not obey her, but took the mortar and carried it to the King, said that he had found it in the cleared land, and asked if he would accept it as a present. The King took the mortar, and asked if he had found nothing besides that? 'No,' answered the countryman. Then the King said that he must now bring him the pestle. The peasant said they had not found that, but he might just as well have spoken to the wind; he was put in prison, and was to stay there until he produced the pestle. The servants had daily to carry him bread and water, which is what people get in prison, and they heard how the man cried out continually, 'Ah! if I had but listened to my daughter! Alas, alas, if I had but listened to my daughter!' and would neither eat nor drink. So he commanded the servants to bring the prisoner before him, and then the King asked the peasant why he was always crying, 'Ah! if I had but listened to my daughter!' and what it was that his daughter had said. 'She told me that I ought not to take the mortar to you, for I should have to produce the pestle as well.' 'If you have a daughter who is as wise as that, let her come here.' She was therefore obliged to appear before the King, who asked her if she really was so wise, and said he would set her a riddle, and if she could guess that, he would marry her. She at once said yes, she would guess it. Then said the King, 'Come to me not clothed, not naked, not riding, not walking, not in the road, and not out of the road, and if thou canst do that I will marry thee.' So she went away, put off everything she had on, and then she was not clothed, and took a great fishing net, and seated herself in it and wrapped it entirely round and round her, so that she was not naked, and she hired an ass, and tied the fisherman's net to its tail, so that it was forced to drag her along, and that was neither riding nor walking. The ass had also to drag her in the ruts, so that she only touched the ground with her great toe, and that was neither being in the road nor out of the road. And when she arrived in that fashion, the King said she had guessed the riddle and fulfilled all the conditions. Then he ordered her father to be released from the prison, took her to wife, and gave into her care all the royal possessions.\n",
      "SUMMARY: 0  A tale of a tale of two daughters, one of them very wise, and the other\n",
      "SEGMENT: 1 \n",
      "\n",
      "\tNow when some years had passed, the King was once drawing up his troops on parade, when it happened that some peasants who had been selling wood stopped with their waggons before the palace; some of them had oxen yoked to them, and some horses. There was one peasant who had three horses, one of which was delivered of a young foal, and it ran away and lay down between two oxen which were in front of the waggon. When the peasants came together, they began to dispute, to beat each other and make a disturbance, and the peasant with the oxen wanted to keep the foal, and said one of the oxen had given birth to it, and the other said his horse had had it, and that it was his. The quarrel came before the King, and he give the verdict that the foal should stay where it had been found, and so the peasant with the oxen, to whom it did not belong, got it. Then the other went away, and wept and lamented over his foal. Now he had heard how gracious his lady the Queen was because she herself had sprung from poor peasant folks, so he went to her and begged her to see if she could not help him to get his foal back again. Said she, 'Yes, I will tell you what to do, if thou wilt promise me not to betray me. Early to-morrow morning, when the King parades the guard, place thyself there in the middle of the road by which he must pass, take a great fishing-net and pretend to be fishing; go on fishing, too, and empty out the net as if thou hadst got it full' and then she told him also what he was to say if he was questioned by the King. The next day, therefore, the peasant stood there, and fished on dry ground. When the King passed by, and saw that, he sent his messenger to ask what the stupid man was about? He answered, 'I am fishing.' The messenger asked how he could fish when there was no water there? The peasant said, 'It is as easy for me to fish on dry land as it is for an ox to have a foal.' The messenger went back and took the answer to the King, who ordered the peasant to be brought to him and told him that this was not his own idea, and he wanted to know whose it was? The peasant must confess this at once. The peasant, however, would not do so, and said always, God forbid he should! the idea was his own. They laid him, however, on a heap of straw, and beat him and tormented him so long that at last he admitted that he had got the idea from the Queen.\n",
      "SUMMARY: 1  A tale of a dispute between two peasants over a foal, which led to one to\n",
      "SEGMENT: 2 \n",
      "\n",
      "\tWhen the King reached home again, he said to his wife, 'Why hast thou behaved so falsely to me? I will not have thee any longer for a wife; thy time is up, go back to the place from whence thou camest to thy peasant's hut.' One favour, however, he granted her; she might take with her the one thing that was dearest and best in her eyes; and thus was she dismissed. She said, 'Yes, my dear husband, if you command this, I will do it,' and she embraced him and kissed him, and said she would take leave of him. Then she ordered a powerful sleeping draught to be brought, to drink farewell to him; the King took a long draught, but she took only a little. He soon fell into a deep sleep, and when she perceived that, she called a servant and took a fair white linen cloth and wrapped the King in it, and the servant was forced to carry him into a carriage that stood before the door, and she drove with him to her own little house. She laid him in her own little bed, and he slept one day and one night without awakening, and when he awoke he looked round and said, 'Good God! where am I?' He called his attendants, but none of them were there. At length his wife came to his bedside and said, 'My dear lord and King, you told me I might bring away with me from the palace that which was dearest and most precious in my eyes I have nothing more precious and dear than yourself, so I have brought you with me.' Tears rose to the King's eyes and he said, 'Dear wife, thou shalt be mine and I will be thine,' and he took her back with him to the royal palace and was married again to her, and at the present time they are very likely still living.\n",
      "SUMMARY: 2  A long time ago, a young King from a peasant's hut in the centre of the\n"
     ]
    }
   ],
   "source": [
    "idx = 0\n",
    "\n",
    "segments = eval(df2.loc[idx][\"segmented_story\"])\n",
    "summaries = eval(df2.loc[idx][\"summarized_story\"])\n",
    "\n",
    "for i, segment in enumerate(segments):\n",
    "    print(\"SEGMENT:\", i, segment) \n",
    "    print(\"SUMMARY:\", i, summaries[i])"
   ]
  },
  {
   "cell_type": "code",
   "execution_count": null,
   "metadata": {},
   "outputs": [],
   "source": []
  }
 ],
 "metadata": {
  "kernelspec": {
   "display_name": "genai",
   "language": "python",
   "name": "python3"
  },
  "language_info": {
   "codemirror_mode": {
    "name": "ipython",
    "version": 3
   },
   "file_extension": ".py",
   "mimetype": "text/x-python",
   "name": "python",
   "nbconvert_exporter": "python",
   "pygments_lexer": "ipython3",
   "version": "3.11.3"
  }
 },
 "nbformat": 4,
 "nbformat_minor": 2
}
